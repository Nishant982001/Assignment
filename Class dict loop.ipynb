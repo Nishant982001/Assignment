{
 "cells": [
  {
   "cell_type": "code",
   "execution_count": 1,
   "id": "b12a3bb5-80ca-4466-93c8-8ad10594c4b0",
   "metadata": {},
   "outputs": [],
   "source": [
    "d = {}"
   ]
  },
  {
   "cell_type": "code",
   "execution_count": 2,
   "id": "713de9ae-42bd-4329-9533-2b08b1629437",
   "metadata": {},
   "outputs": [
    {
     "data": {
      "text/plain": [
       "dict"
      ]
     },
     "execution_count": 2,
     "metadata": {},
     "output_type": "execute_result"
    }
   ],
   "source": [
    "type(d)"
   ]
  },
  {
   "cell_type": "code",
   "execution_count": 3,
   "id": "3f3a819c-e483-4e96-b7a8-1344e2568a5e",
   "metadata": {},
   "outputs": [],
   "source": [
    "d1 = {'key' : \"sudh\"}"
   ]
  },
  {
   "cell_type": "code",
   "execution_count": 5,
   "id": "388f32d6-19b2-4d5a-af81-9437533b847d",
   "metadata": {},
   "outputs": [
    {
     "data": {
      "text/plain": [
       "{'key': 'sudh'}"
      ]
     },
     "execution_count": 5,
     "metadata": {},
     "output_type": "execute_result"
    }
   ],
   "source": [
    "d1"
   ]
  },
  {
   "cell_type": "code",
   "execution_count": 7,
   "id": "9873a0e0-3b2b-4975-9967-0cd87d8de47a",
   "metadata": {},
   "outputs": [],
   "source": [
    "d2 = {'name' : \"sudhanshu\" , 'email' : 'ss@gamil.com' , \"number\": 33345}"
   ]
  },
  {
   "cell_type": "code",
   "execution_count": 8,
   "id": "c9e0b34b-ed33-4597-8af2-3c53acb4b0ab",
   "metadata": {},
   "outputs": [
    {
     "data": {
      "text/plain": [
       "{'name': 'sudhanshu', 'email': 'ss@gamil.com', 'number': 33345}"
      ]
     },
     "execution_count": 8,
     "metadata": {},
     "output_type": "execute_result"
    }
   ],
   "source": [
    "d2"
   ]
  },
  {
   "cell_type": "code",
   "execution_count": 15,
   "id": "3e13bbc5-36af-4308-a6e8-7d509050fe0e",
   "metadata": {},
   "outputs": [],
   "source": [
    "d3 = {234 : 'sudh', \"_wer\": \"kumar\", True : 2345}"
   ]
  },
  {
   "cell_type": "code",
   "execution_count": 16,
   "id": "a27a90d0-d853-474b-a78c-88c8b8059e8e",
   "metadata": {},
   "outputs": [
    {
     "data": {
      "text/plain": [
       "{234: 'sudh', '_wer': 'kumar', True: 2345}"
      ]
     },
     "execution_count": 16,
     "metadata": {},
     "output_type": "execute_result"
    }
   ],
   "source": [
    "d3"
   ]
  },
  {
   "cell_type": "code",
   "execution_count": 18,
   "id": "806af233-a9b9-4e58-b04b-e035f97446dd",
   "metadata": {},
   "outputs": [
    {
     "data": {
      "text/plain": [
       "'sudh'"
      ]
     },
     "execution_count": 18,
     "metadata": {},
     "output_type": "execute_result"
    }
   ],
   "source": [
    "d3[234]"
   ]
  },
  {
   "cell_type": "code",
   "execution_count": 19,
   "id": "9e96841a-efe6-4332-b3fa-a4fd95c1dc92",
   "metadata": {},
   "outputs": [
    {
     "data": {
      "text/plain": [
       "2345"
      ]
     },
     "execution_count": 19,
     "metadata": {},
     "output_type": "execute_result"
    }
   ],
   "source": [
    "d3[True]"
   ]
  },
  {
   "cell_type": "code",
   "execution_count": 20,
   "id": "a79a40af-3860-4327-b62d-bb6f032647fd",
   "metadata": {},
   "outputs": [
    {
     "data": {
      "text/plain": [
       "2345"
      ]
     },
     "execution_count": 20,
     "metadata": {},
     "output_type": "execute_result"
    }
   ],
   "source": [
    "d3[1]"
   ]
  },
  {
   "cell_type": "code",
   "execution_count": 22,
   "id": "4fe9e25a-0350-4742-a8eb-6ee442037db0",
   "metadata": {},
   "outputs": [],
   "source": [
    "d4 = {'name' : 'sudh', 'mail_id' : \"ss@gmail.com\", \"name\": \"sudhanshu\"}"
   ]
  },
  {
   "cell_type": "code",
   "execution_count": 23,
   "id": "bc2ba6ac-e53f-4a63-9724-52278994e1d5",
   "metadata": {},
   "outputs": [
    {
     "data": {
      "text/plain": [
       "'sudhanshu'"
      ]
     },
     "execution_count": 23,
     "metadata": {},
     "output_type": "execute_result"
    }
   ],
   "source": [
    "d4['name']"
   ]
  },
  {
   "cell_type": "code",
   "execution_count": 24,
   "id": "2e6c25c6-7c5e-4cc9-84a1-936e6cd9cb5c",
   "metadata": {},
   "outputs": [],
   "source": [
    "d5 = {\"company\" : \"pwskills\", \"course\" : ['webdev', \"data science\", \"java with dsa system design\"]}"
   ]
  },
  {
   "cell_type": "code",
   "execution_count": 25,
   "id": "5f326db6-f59d-44ca-b19a-1ac439847cc6",
   "metadata": {},
   "outputs": [
    {
     "data": {
      "text/plain": [
       "{'company': 'pwskills',\n",
       " 'course': ['webdev', 'data science', 'java with dsa system design']}"
      ]
     },
     "execution_count": 25,
     "metadata": {},
     "output_type": "execute_result"
    }
   ],
   "source": [
    "d5"
   ]
  },
  {
   "cell_type": "code",
   "execution_count": 26,
   "id": "bab46f5b-1b97-48c5-ba23-35a534dcdeb7",
   "metadata": {},
   "outputs": [
    {
     "data": {
      "text/plain": [
       "['webdev', 'data science', 'java with dsa system design']"
      ]
     },
     "execution_count": 26,
     "metadata": {},
     "output_type": "execute_result"
    }
   ],
   "source": [
    "d5[\"course\"]"
   ]
  },
  {
   "cell_type": "code",
   "execution_count": 27,
   "id": "af64b496-2c3f-4387-92f5-21e7c1c19293",
   "metadata": {},
   "outputs": [
    {
     "data": {
      "text/plain": [
       "'java with dsa system design'"
      ]
     },
     "execution_count": 27,
     "metadata": {},
     "output_type": "execute_result"
    }
   ],
   "source": [
    "d5[\"course\"][2]"
   ]
  },
  {
   "cell_type": "code",
   "execution_count": 30,
   "id": "5b0327fd-f221-432d-af16-e6f0d01d485d",
   "metadata": {},
   "outputs": [],
   "source": [
    "d6={\"number\" : [12,13,2,34,34],\"assignment\":(1,2,34,5,6), \"launch date\" :{28,12,14}, \"class timing\" : {\"webdev\":8, \"data science master\" : 8, \"java with system design\" :7}}"
   ]
  },
  {
   "cell_type": "code",
   "execution_count": 31,
   "id": "7c422ea6-5ef9-4666-8022-696e5785836a",
   "metadata": {},
   "outputs": [
    {
     "data": {
      "text/plain": [
       "{'number': [12, 13, 2, 34, 34],\n",
       " 'assignment': (1, 2, 34, 5, 6),\n",
       " 'launch date': {12, 14, 28},\n",
       " 'class timing': {'webdev': 8,\n",
       "  'data science master': 8,\n",
       "  'java with system design': 7}}"
      ]
     },
     "execution_count": 31,
     "metadata": {},
     "output_type": "execute_result"
    }
   ],
   "source": [
    "d6"
   ]
  },
  {
   "cell_type": "code",
   "execution_count": 32,
   "id": "906b85b0-dfe1-4860-9667-79c6b769f7d5",
   "metadata": {},
   "outputs": [
    {
     "data": {
      "text/plain": [
       "{'webdev': 8, 'data science master': 8, 'java with system design': 7}"
      ]
     },
     "execution_count": 32,
     "metadata": {},
     "output_type": "execute_result"
    }
   ],
   "source": [
    "d6['class timing']"
   ]
  },
  {
   "cell_type": "code",
   "execution_count": 33,
   "id": "20b9f3f3-1f71-4e9e-80c7-6c4cb7dd553a",
   "metadata": {},
   "outputs": [
    {
     "data": {
      "text/plain": [
       "7"
      ]
     },
     "execution_count": 33,
     "metadata": {},
     "output_type": "execute_result"
    }
   ],
   "source": [
    "d6['class timing']['java with system design']"
   ]
  },
  {
   "cell_type": "code",
   "execution_count": 34,
   "id": "c85f1ede-8709-4543-a677-2a310a7a3a71",
   "metadata": {},
   "outputs": [
    {
     "data": {
      "text/plain": [
       "{'number': [12, 13, 2, 34, 34],\n",
       " 'assignment': (1, 2, 34, 5, 6),\n",
       " 'launch date': {12, 14, 28},\n",
       " 'class timing': {'webdev': 8,\n",
       "  'data science master': 8,\n",
       "  'java with system design': 7}}"
      ]
     },
     "execution_count": 34,
     "metadata": {},
     "output_type": "execute_result"
    }
   ],
   "source": [
    "d6"
   ]
  },
  {
   "cell_type": "code",
   "execution_count": 35,
   "id": "e8f7573e-508e-4a19-ba47-ef6b53415522",
   "metadata": {},
   "outputs": [],
   "source": [
    "d6['mentor']=['sudhanshu', \"krish\", \"anurag\", 'hayder']"
   ]
  },
  {
   "cell_type": "code",
   "execution_count": 36,
   "id": "1bea9be2-ba95-4249-9057-302b1df93b1f",
   "metadata": {},
   "outputs": [
    {
     "data": {
      "text/plain": [
       "{'number': [12, 13, 2, 34, 34],\n",
       " 'assignment': (1, 2, 34, 5, 6),\n",
       " 'launch date': {12, 14, 28},\n",
       " 'class timing': {'webdev': 8,\n",
       "  'data science master': 8,\n",
       "  'java with system design': 7},\n",
       " 'mentor': ['sudhanshu', 'krish', 'anurag', 'hayder']}"
      ]
     },
     "execution_count": 36,
     "metadata": {},
     "output_type": "execute_result"
    }
   ],
   "source": [
    "d6"
   ]
  },
  {
   "cell_type": "code",
   "execution_count": 37,
   "id": "e30e393c-ea89-4523-8dd3-04c39ae116ed",
   "metadata": {},
   "outputs": [],
   "source": [
    "del d6[\"number\"]"
   ]
  },
  {
   "cell_type": "code",
   "execution_count": 38,
   "id": "ce02af2c-a225-48c7-b1d6-379fdba5b0d3",
   "metadata": {},
   "outputs": [
    {
     "data": {
      "text/plain": [
       "{'assignment': (1, 2, 34, 5, 6),\n",
       " 'launch date': {12, 14, 28},\n",
       " 'class timing': {'webdev': 8,\n",
       "  'data science master': 8,\n",
       "  'java with system design': 7},\n",
       " 'mentor': ['sudhanshu', 'krish', 'anurag', 'hayder']}"
      ]
     },
     "execution_count": 38,
     "metadata": {},
     "output_type": "execute_result"
    }
   ],
   "source": [
    "d6"
   ]
  },
  {
   "cell_type": "code",
   "execution_count": 39,
   "id": "79101052-f670-4207-b5e5-48b1ff81c102",
   "metadata": {},
   "outputs": [
    {
     "data": {
      "text/plain": [
       "dict_keys(['assignment', 'launch date', 'class timing', 'mentor'])"
      ]
     },
     "execution_count": 39,
     "metadata": {},
     "output_type": "execute_result"
    }
   ],
   "source": [
    "d6.keys()"
   ]
  },
  {
   "cell_type": "code",
   "execution_count": 41,
   "id": "e95a4444-26cd-47b5-8de1-7b4c0f0cb182",
   "metadata": {},
   "outputs": [
    {
     "data": {
      "text/plain": [
       "['assignment', 'launch date', 'class timing', 'mentor']"
      ]
     },
     "execution_count": 41,
     "metadata": {},
     "output_type": "execute_result"
    }
   ],
   "source": [
    "list(d6.keys())"
   ]
  },
  {
   "cell_type": "code",
   "execution_count": 42,
   "id": "80759b90-5990-4440-9724-890fa755069e",
   "metadata": {},
   "outputs": [
    {
     "data": {
      "text/plain": [
       "dict_values([(1, 2, 34, 5, 6), {28, 12, 14}, {'webdev': 8, 'data science master': 8, 'java with system design': 7}, ['sudhanshu', 'krish', 'anurag', 'hayder']])"
      ]
     },
     "execution_count": 42,
     "metadata": {},
     "output_type": "execute_result"
    }
   ],
   "source": [
    "d6.values()"
   ]
  },
  {
   "cell_type": "code",
   "execution_count": 43,
   "id": "14b2109d-4e7d-4051-83c0-895a591cbbcc",
   "metadata": {},
   "outputs": [
    {
     "data": {
      "text/plain": [
       "[(1, 2, 34, 5, 6),\n",
       " {12, 14, 28},\n",
       " {'webdev': 8, 'data science master': 8, 'java with system design': 7},\n",
       " ['sudhanshu', 'krish', 'anurag', 'hayder']]"
      ]
     },
     "execution_count": 43,
     "metadata": {},
     "output_type": "execute_result"
    }
   ],
   "source": [
    "list(d6.values())"
   ]
  },
  {
   "cell_type": "code",
   "execution_count": 44,
   "id": "d8dbd791-16da-4907-b6b5-aaebd85a962d",
   "metadata": {},
   "outputs": [
    {
     "data": {
      "text/plain": [
       "dict_items([('assignment', (1, 2, 34, 5, 6)), ('launch date', {28, 12, 14}), ('class timing', {'webdev': 8, 'data science master': 8, 'java with system design': 7}), ('mentor', ['sudhanshu', 'krish', 'anurag', 'hayder'])])"
      ]
     },
     "execution_count": 44,
     "metadata": {},
     "output_type": "execute_result"
    }
   ],
   "source": [
    "d6.items()"
   ]
  },
  {
   "cell_type": "code",
   "execution_count": 45,
   "id": "7e0a32e9-8a09-4ab1-8a8b-3e617f81877f",
   "metadata": {},
   "outputs": [
    {
     "data": {
      "text/plain": [
       "[('assignment', (1, 2, 34, 5, 6)),\n",
       " ('launch date', {12, 14, 28}),\n",
       " ('class timing',\n",
       "  {'webdev': 8, 'data science master': 8, 'java with system design': 7}),\n",
       " ('mentor', ['sudhanshu', 'krish', 'anurag', 'hayder'])]"
      ]
     },
     "execution_count": 45,
     "metadata": {},
     "output_type": "execute_result"
    }
   ],
   "source": [
    "list(d6.items())"
   ]
  },
  {
   "cell_type": "code",
   "execution_count": 46,
   "id": "5b03d4dc-71db-4c14-9a9c-e397fb1cc97e",
   "metadata": {},
   "outputs": [
    {
     "data": {
      "text/plain": [
       "{'assignment': (1, 2, 34, 5, 6),\n",
       " 'launch date': {12, 14, 28},\n",
       " 'class timing': {'webdev': 8,\n",
       "  'data science master': 8,\n",
       "  'java with system design': 7},\n",
       " 'mentor': ['sudhanshu', 'krish', 'anurag', 'hayder']}"
      ]
     },
     "execution_count": 46,
     "metadata": {},
     "output_type": "execute_result"
    }
   ],
   "source": [
    "d6"
   ]
  },
  {
   "cell_type": "code",
   "execution_count": 47,
   "id": "eb30269e-7456-4942-b3b9-0a7c74661bd7",
   "metadata": {},
   "outputs": [
    {
     "data": {
      "text/plain": [
       "(1, 2, 34, 5, 6)"
      ]
     },
     "execution_count": 47,
     "metadata": {},
     "output_type": "execute_result"
    }
   ],
   "source": [
    "d6.pop(\"assignment\")"
   ]
  },
  {
   "cell_type": "code",
   "execution_count": 48,
   "id": "743620c8-7df3-48db-86a2-287e8c9ed0a9",
   "metadata": {},
   "outputs": [
    {
     "data": {
      "text/plain": [
       "{'launch date': {12, 14, 28},\n",
       " 'class timing': {'webdev': 8,\n",
       "  'data science master': 8,\n",
       "  'java with system design': 7},\n",
       " 'mentor': ['sudhanshu', 'krish', 'anurag', 'hayder']}"
      ]
     },
     "execution_count": 48,
     "metadata": {},
     "output_type": "execute_result"
    }
   ],
   "source": [
    "d6"
   ]
  },
  {
   "cell_type": "code",
   "execution_count": 49,
   "id": "3e78813b-7c3f-4bfb-baa6-823142a3f70c",
   "metadata": {},
   "outputs": [
    {
     "ename": "TypeError",
     "evalue": "pop expected at least 1 argument, got 0",
     "output_type": "error",
     "traceback": [
      "\u001b[0;31m---------------------------------------------------------------------------\u001b[0m",
      "\u001b[0;31mTypeError\u001b[0m                                 Traceback (most recent call last)",
      "Cell \u001b[0;32mIn[49], line 1\u001b[0m\n\u001b[0;32m----> 1\u001b[0m \u001b[43md6\u001b[49m\u001b[38;5;241;43m.\u001b[39;49m\u001b[43mpop\u001b[49m\u001b[43m(\u001b[49m\u001b[43m)\u001b[49m\n",
      "\u001b[0;31mTypeError\u001b[0m: pop expected at least 1 argument, got 0"
     ]
    }
   ],
   "source": [
    "d6.pop()"
   ]
  },
  {
   "cell_type": "code",
   "execution_count": 54,
   "id": "7c459d3a-8704-48c7-88a4-03dff42f9bf6",
   "metadata": {},
   "outputs": [
    {
     "name": "stdin",
     "output_type": "stream",
     "text": [
      "enter your marks 90\n"
     ]
    },
    {
     "name": "stdout",
     "output_type": "stream",
     "text": [
      "you will be a part of A0 batch\n"
     ]
    }
   ],
   "source": [
    "marks = int(input(\"enter your marks\"))\n",
    "if marks >= 80 :\n",
    "    print(\"you will be a part of A0 batch\")\n",
    "elif marks >= 60 and marks < 80 :\n",
    "    print(\"you will be a part of A1 batch\")\n",
    "elif marks >= 40 and marks < 60 :\n",
    "    print(\"you will be a part of A2 batch\")\n",
    "else :\n",
    "    print(\"you will be apart of A3 batch\")\n",
    "    \n",
    "    "
   ]
  },
  {
   "cell_type": "code",
   "execution_count": 58,
   "id": "be20b11a-953a-4227-a1e8-c99afdbd8a25",
   "metadata": {},
   "outputs": [
    {
     "name": "stdin",
     "output_type": "stream",
     "text": [
      "enter your price 200\n"
     ]
    },
    {
     "name": "stdout",
     "output_type": "stream",
     "text": [
      "I will purchase\n"
     ]
    }
   ],
   "source": [
    "price = int(input(\"enter your price\"))\n",
    "if price > 1000:\n",
    "    print(\"I will not purchase\")\n",
    "else :\n",
    "    print(\"I will purchase\")"
   ]
  },
  {
   "cell_type": "code",
   "execution_count": 64,
   "id": "2f131bf5-57ce-4e07-8257-8c0490a91006",
   "metadata": {},
   "outputs": [
    {
     "name": "stdin",
     "output_type": "stream",
     "text": [
      "enter your price 7000\n"
     ]
    },
    {
     "name": "stdout",
     "output_type": "stream",
     "text": [
      "I will not purchase\n",
      "this is too much\n"
     ]
    }
   ],
   "source": [
    "price = int(input(\"enter your price\"))\n",
    "if price > 1000:\n",
    "    print(\"I will not purchase\")\n",
    "    if price > 5000:\n",
    "        print(\"this is too much\")\n",
    "    elif price < 2000:\n",
    "        print(\"its ok\")\n",
    "elif price < 1000:\n",
    "    print(\"I will purchase it\")\n",
    "else : \n",
    "    print(\"not intereseted\")"
   ]
  },
  {
   "cell_type": "code",
   "execution_count": 66,
   "id": "b5564a14-7046-43f2-913d-342ca1f32354",
   "metadata": {},
   "outputs": [],
   "source": [
    "l = [1,2,3,3,4,5,6,7,8]"
   ]
  },
  {
   "cell_type": "code",
   "execution_count": 68,
   "id": "da9ca069-1521-4b86-b2d3-138e26602407",
   "metadata": {},
   "outputs": [
    {
     "data": {
      "text/plain": [
       "2"
      ]
     },
     "execution_count": 68,
     "metadata": {},
     "output_type": "execute_result"
    }
   ],
   "source": [
    "l[0]+1"
   ]
  },
  {
   "cell_type": "code",
   "execution_count": 69,
   "id": "504eb52f-78a5-42c0-90ba-aa03d298c14d",
   "metadata": {},
   "outputs": [],
   "source": [
    "l1=[]"
   ]
  },
  {
   "cell_type": "code",
   "execution_count": 70,
   "id": "da194189-540a-4e90-9f29-4dbc95286920",
   "metadata": {},
   "outputs": [],
   "source": [
    "l1.append(l[0]+1)"
   ]
  },
  {
   "cell_type": "code",
   "execution_count": 71,
   "id": "0ccb27dc-10f5-467b-8108-de4ccdec5f27",
   "metadata": {},
   "outputs": [
    {
     "data": {
      "text/plain": [
       "[2]"
      ]
     },
     "execution_count": 71,
     "metadata": {},
     "output_type": "execute_result"
    }
   ],
   "source": [
    "l1"
   ]
  },
  {
   "cell_type": "code",
   "execution_count": 72,
   "id": "60017422-b1a6-4a27-905b-bcf779af3845",
   "metadata": {},
   "outputs": [],
   "source": [
    "l = [1,2,3,3,4,5,6,7,8]"
   ]
  },
  {
   "cell_type": "code",
   "execution_count": 78,
   "id": "65699d49-579c-4a11-9cb9-255670bfa110",
   "metadata": {},
   "outputs": [
    {
     "name": "stdout",
     "output_type": "stream",
     "text": [
      "2\n",
      "3\n",
      "4\n",
      "4\n",
      "5\n",
      "6\n",
      "7\n",
      "8\n",
      "9\n"
     ]
    },
    {
     "data": {
      "text/plain": [
       "[2, 3, 4, 4, 5, 6, 7, 8, 9]"
      ]
     },
     "execution_count": 78,
     "metadata": {},
     "output_type": "execute_result"
    }
   ],
   "source": [
    "l1 = []\n",
    "for i in l :\n",
    "    print(i+1)\n",
    "    l1.append(i+1)\n",
    "l1"
   ]
  },
  {
   "cell_type": "code",
   "execution_count": 79,
   "id": "039711ec-84bd-415c-bccc-7f98fa26dcdb",
   "metadata": {},
   "outputs": [
    {
     "data": {
      "text/plain": [
       "[1, 2, 3, 3, 4, 5, 6, 7, 8]"
      ]
     },
     "execution_count": 79,
     "metadata": {},
     "output_type": "execute_result"
    }
   ],
   "source": [
    "l"
   ]
  },
  {
   "cell_type": "code",
   "execution_count": 80,
   "id": "fb4f7b91-d413-4e1d-b692-d8e28e0f8272",
   "metadata": {},
   "outputs": [],
   "source": [
    "l = [\"sudh\", \"kumar\", \"pwskills\" , \"course\"]"
   ]
  },
  {
   "cell_type": "code",
   "execution_count": 85,
   "id": "cbaf9a23-a4d2-41ff-8a50-3e670055c6a6",
   "metadata": {},
   "outputs": [
    {
     "name": "stdout",
     "output_type": "stream",
     "text": [
      "sudh\n",
      "kumar\n",
      "pwskills\n",
      "course\n"
     ]
    },
    {
     "data": {
      "text/plain": [
       "['SUDH', 'KUMAR', 'PWSKILLS', 'COURSE']"
      ]
     },
     "execution_count": 85,
     "metadata": {},
     "output_type": "execute_result"
    }
   ],
   "source": [
    "l2=[]\n",
    "for i in l:\n",
    "    print(i)\n",
    "    l2.append(i.upper())\n",
    "l2"
   ]
  },
  {
   "cell_type": "code",
   "execution_count": 86,
   "id": "8ad12abe-1a7b-46f8-afcf-e676351c4290",
   "metadata": {},
   "outputs": [],
   "source": [
    "l = [1,2,3,4,5,\"sudh\",\"kumar\",324,34.456,\"abc\"]"
   ]
  },
  {
   "cell_type": "code",
   "execution_count": 92,
   "id": "83482ff4-81ea-4944-a311-babdff7da619",
   "metadata": {},
   "outputs": [],
   "source": [
    "l1_num = []\n",
    "l2_str = []\n",
    "for i in l :\n",
    "    if type(i) == int or type(i) == float :\n",
    "        l1_num.append(i)\n",
    "    else :\n",
    "        l2_str.append(i) "
   ]
  },
  {
   "cell_type": "code",
   "execution_count": 93,
   "id": "3d963cb4-55bb-4fcd-86c6-2f61259281ad",
   "metadata": {},
   "outputs": [
    {
     "data": {
      "text/plain": [
       "[1, 2, 3, 4, 5, 324, 34.456]"
      ]
     },
     "execution_count": 93,
     "metadata": {},
     "output_type": "execute_result"
    }
   ],
   "source": [
    "l1_num"
   ]
  },
  {
   "cell_type": "code",
   "execution_count": 94,
   "id": "55a4e78f-0889-4e98-a8b3-b504c0bd664c",
   "metadata": {},
   "outputs": [
    {
     "data": {
      "text/plain": [
       "['sudh', 'kumar', 'abc']"
      ]
     },
     "execution_count": 94,
     "metadata": {},
     "output_type": "execute_result"
    }
   ],
   "source": [
    "l2_str"
   ]
  },
  {
   "cell_type": "code",
   "execution_count": null,
   "id": "0e869297-1d75-4869-8d3d-63ca4a90e5c5",
   "metadata": {},
   "outputs": [],
   "source": []
  }
 ],
 "metadata": {
  "kernelspec": {
   "display_name": "Python 3 (ipykernel)",
   "language": "python",
   "name": "python3"
  },
  "language_info": {
   "codemirror_mode": {
    "name": "ipython",
    "version": 3
   },
   "file_extension": ".py",
   "mimetype": "text/x-python",
   "name": "python",
   "nbconvert_exporter": "python",
   "pygments_lexer": "ipython3",
   "version": "3.10.8"
  }
 },
 "nbformat": 4,
 "nbformat_minor": 5
}
